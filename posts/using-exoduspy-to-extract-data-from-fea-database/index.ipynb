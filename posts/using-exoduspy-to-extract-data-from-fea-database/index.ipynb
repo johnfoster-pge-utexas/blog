{
 "cells": [
  {
   "cell_type": "markdown",
   "metadata": {},
   "source": [
    "This post will briefly show how you can use the `exodus.py` script distributed with [Trilinos](http://trilinos.org) to extract data directly from an Exodus database.  Exodus is a wrapper API on NetCDF that is specifically suited for finite element data.  That is, it defines variables on nodes, elements, blocks of elements, sets of nodes, etc.  The Exodus API is provided in both C and Fortran, `exodus.py` uses `ctypes` to call into the compiled Exodus C library. \n",
    "\n",
    "First, I need to rearrange my install environment a little because `exodus.py` expects the NetCDF and Exodus compiled dynamic libraries to be in the same directory. On my machine they are not, so I will just create some symbolic links.  It also expects the Exodus include file to be in a folder labeled `inc`, but on my machine it is labeled `include` so again, I will just create some symbolic links."
   ]
  },
  {
   "cell_type": "code",
   "execution_count": 1,
   "metadata": {
    "collapsed": false
   },
   "outputs": [],
   "source": [
    "%%bash\n",
    "ln -sf /usr/local/netcdf/lib/libnetcdf.dylib /usr/local/trilinos/lib/.\n",
    "ln -sf /usr/local/trilinos/include /usr/local/trilinos/inc"
   ]
  },
  {
   "cell_type": "markdown",
   "metadata": {},
   "source": [
    "If your /usr/local is not writable, you may need to use `sudo` to create the links.  Also, I am on Mac OSX where dynamic libraries have a `.dylib` file extension.  If you use Linux, you will need to change `.dylib` above to `.so`.\n",
    "\n",
    "We also need to add the path of `exodus.py` to the active `PYTHONPATH`.  We can do this from within the IPython session."
   ]
  },
  {
   "cell_type": "code",
   "execution_count": 2,
   "metadata": {
    "collapsed": true
   },
   "outputs": [],
   "source": [
    "import sys\n",
    "sys.path.append('/usr/local/trilinos/bin')"
   ]
  },
  {
   "cell_type": "markdown",
   "metadata": {},
   "source": [
    "Now we can load the `exodus` class from `exodus.py` and instantiate a file object with a given filename.  I will use the `ViscoplasticNeedlemanFullyPrescribedTension_NoFlaw.h` Exodus history database that is output from the [*Peridigm*](http://peridigm.sandia.gov) verification test of the same name."
   ]
  },
  {
   "cell_type": "code",
   "execution_count": 3,
   "metadata": {
    "collapsed": false
   },
   "outputs": [
    {
     "name": "stdout",
     "output_type": "stream",
     "text": [
      "\n",
      "You are using exodus.py v 1.02 (beta), a python wrapper of some of the exodus II library.\n",
      "Copyright (c) 2013,2014 Sandia Corporation. Under the terms of Contract DE-AC04-94AL85000\n",
      "with Sandia Corporation, the U.S. Government retains certain rights in this software.\n",
      "\n",
      "Opening exodus file: ViscoplasticNeedlemanFullyPrescribedTension_NoFlaw.h\n"
     ]
    }
   ],
   "source": [
    "from exodus import exodus\n",
    "\n",
    "e = exodus('ViscoplasticNeedlemanFullyPrescribedTension_NoFlaw.h', mode='r', array_type='numpy')"
   ]
  },
  {
   "cell_type": "markdown",
   "metadata": {},
   "source": [
    "Now we'll use the API calls to extract the data.  First we'll get the time step values."
   ]
  },
  {
   "cell_type": "code",
   "execution_count": 4,
   "metadata": {
    "collapsed": false
   },
   "outputs": [],
   "source": [
    "time_steps = e.get_times()"
   ]
  },
  {
   "cell_type": "markdown",
   "metadata": {},
   "source": [
    "Now we can print the global variable names."
   ]
  },
  {
   "cell_type": "code",
   "execution_count": 5,
   "metadata": {
    "collapsed": false
   },
   "outputs": [
    {
     "data": {
      "text/plain": [
       "['Max_Von_Mises_Stress', 'Min_Von_Mises_Stress']"
      ]
     },
     "execution_count": 5,
     "metadata": {},
     "output_type": "execute_result"
    }
   ],
   "source": [
    "e.get_global_variable_names()"
   ]
  },
  {
   "cell_type": "markdown",
   "metadata": {},
   "source": [
    "And use the global variable names to extract the data from the database.  Since we used `array_type='numpy'` when we instantiated the file object above.  The data is stored in numpy arrays."
   ]
  },
  {
   "cell_type": "code",
   "execution_count": 6,
   "metadata": {
    "collapsed": false
   },
   "outputs": [],
   "source": [
    "vm_max = e.get_global_variable_values('Max_Von_Mises_Stress')\n",
    "vm_min = e.get_global_variable_values('Min_Von_Mises_Stress')"
   ]
  },
  {
   "cell_type": "markdown",
   "metadata": {},
   "source": [
    "Because in this example test we load at a constant strain-rate, we can easily convert the time-steps to engineering strain."
   ]
  },
  {
   "cell_type": "code",
   "execution_count": 7,
   "metadata": {
    "collapsed": true
   },
   "outputs": [],
   "source": [
    "eng_strain_Y = time_steps * 0.001 / 1.0e-8"
   ]
  },
  {
   "cell_type": "markdown",
   "metadata": {},
   "source": [
    "Now we can create a stress-strain curve"
   ]
  },
  {
   "cell_type": "code",
   "execution_count": 8,
   "metadata": {
    "collapsed": false
   },
   "outputs": [
    {
     "data": {
      "image/png": "[encoded data removed]",
      "text/plain": [
       "<matplotlib.figure.Figure at 0x106030c10>"
      ]
     },
     "metadata": {},
     "output_type": "display_data"
    }
   ],
   "source": [
    "%matplotlib inline\n",
    "import matplotlib.pyplot as plt\n",
    "plt.plot(eng_strain_Y, vm_max, eng_strain_Y, vm_min);\n",
    "plt.ylabel(\"Max/Min von Mises Stress\");"
   ]
  },
  {
   "cell_type": "markdown",
   "metadata": {},
   "source": [
    "I don't want the symbolic links I created earlier to cause any unexpected trouble for me later, so I will remove them."
   ]
  },
  {
   "cell_type": "code",
   "execution_count": 9,
   "metadata": {
    "collapsed": true
   },
   "outputs": [],
   "source": [
    "%%bash\n",
    "rm /usr/local/trilinos/lib/libnetcdf.dylib\n",
    "rm /usr/local/trilinos/inc"
   ]
  }
 ],
 "metadata": {
  "kernelspec": {
   "display_name": "Python 2",
   "language": "python",
   "name": "python2"
  },
  "language_info": {
   "codemirror_mode": {
    "name": "ipython",
    "version": 2
   },
   "file_extension": ".py",
   "mimetype": "text/x-python",
   "name": "python",
   "nbconvert_exporter": "python",
   "pygments_lexer": "ipython2",
   "version": "2.7.8"
  }
 },
 "nbformat": 4,
 "nbformat_minor": 0
}
