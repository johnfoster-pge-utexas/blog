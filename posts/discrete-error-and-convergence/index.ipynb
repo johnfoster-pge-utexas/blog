{
 "cells": [
  {
   "cell_type": "markdown",
   "metadata": {},
   "source": [
    "I was asked a question today about a typical way to present the error between a numerical scheme and an exact solution, and the convergence of the method.  I will demonstate one method that is typically used based on the $L_2$-norm of the error.\n",
    "\n",
    "Consider the ODE\n",
    "\n",
    "\\begin{equation}\n",
    "\\frac{\\rm{d}x}{\\rm{d}t} = x(t) \\quad x(0) = 1\n",
    "\\end{equation}\n",
    "\n",
    "which has the analytic solution\n",
    "\n",
    "\\begin{equation}\n",
    "x(t) = {\\rm e}^t\n",
    "\\end{equation}\n",
    "\n",
    "I'm too lazy to code up anything much more sophisticated, so let's use an Euler explicit finite difference solution for $0 < t < 100$.  We'll write a function that computes the $L_2$ norm of the error between the discrete solution and the exact solution.  The formula for the norm is\n",
    "\n",
    "$$\n",
    "\\Vert error \\Vert_{L_2} = \\sqrt{ \\frac{1}{N} \\sum_{i=1}^N(discrete(x_i) - exact(x_i))^2}\n",
    "$$"
   ]
  },
  {
   "cell_type": "code",
   "execution_count": 1,
   "metadata": {},
   "outputs": [],
   "source": [
    "import numpy as np\n",
    "\n",
    "def finite_diff_solution_err(N):\n",
    "    \"\"\"\n",
    "       Compute explicit finite difference solution and L2 error norm\n",
    "       \n",
    "       input: N - number of time steps\n",
    "       output: normed error\n",
    "    \"\"\"\n",
    "    \n",
    "    t = np.linspace(0., 100., num=N)\n",
    "    \n",
    "    x = np.zeros_like(t)\n",
    "    \n",
    "    n = np.arange(N)\n",
    "    \n",
    "    x[0] = 1.0\n",
    "    \n",
    "    x[1:] = (1.0 + (t[1:] - t[:-1])) ** (n[1:]) * x[0]\n",
    "    \n",
    "    exact = np.exp(t)\n",
    "    \n",
    "    err = np.sqrt(np.sum((x[:] - exact[:]) ** 2.0) / N)\n",
    "    \n",
    "    return err"
   ]
  },
  {
   "cell_type": "markdown",
   "metadata": {},
   "source": [
    "Now let's solve our problem for increasing degrees-of-freedom"
   ]
  },
  {
   "cell_type": "code",
   "execution_count": 2,
   "metadata": {},
   "outputs": [],
   "source": [
    "dofs = np.array([10, 100, 1000, 10000, 100000])\n",
    "\n",
    "errs = [finite_diff_solution_err(i) for i in dofs]"
   ]
  },
  {
   "cell_type": "markdown",
   "metadata": {},
   "source": [
    "Finally, we plot the results as a function of step size $h$.  If we fit a straight line to the data, we get an estimate of the convergence rate of the method, so we'll do that as well."
   ]
  },
  {
   "cell_type": "code",
   "execution_count": 3,
   "metadata": {},
   "outputs": [
    {
     "data": {
      "image/png": "[encoded data removed]",
      "text/plain": [
       "<matplotlib.figure.Figure at 0x10f55ac50>"
      ]
     },
     "metadata": {},
     "output_type": "display_data"
    }
   ],
   "source": [
    "%matplotlib inline\n",
    "import matplotlib.pyplot as plt\n",
    "\n",
    "#Fit a straight line\n",
    "coefs = np.polyfit(np.log10(1.0 / dofs), np.log10(errs), 1)\n",
    "y = 10 ** (coefs[0] * np.log10(1.0 / dofs) + coefs[1])\n",
    "#Plot\n",
    "plt.loglog(1.0 / dofs, y, 'b-')\n",
    "plt.loglog(1.0 / dofs, errs, 'b^')\n",
    "plt.xlabel(\"$\\log_{10} h$\")\n",
    "plt.ylabel(\"$\\log_{10} \\Vert error \\Vert_{L_2}$\");"
   ]
  },
  {
   "cell_type": "markdown",
   "metadata": {},
   "source": [
    "The first term below is the slope of the least-square fit staight line which shows the convergence rate."
   ]
  },
  {
   "cell_type": "code",
   "execution_count": 4,
   "metadata": {},
   "outputs": [
    {
     "data": {
      "text/plain": [
       "array([  0.45172826,  43.45975537])"
      ]
     },
     "execution_count": 4,
     "metadata": {},
     "output_type": "execute_result"
    }
   ],
   "source": [
    "coefs"
   ]
  }
 ],
 "metadata": {
  "kernelspec": {
   "display_name": "Python 3",
   "language": "python",
   "name": "python3"
  },
  "language_info": {
   "codemirror_mode": {
    "name": "ipython",
    "version": 3
   },
   "file_extension": ".py",
   "mimetype": "text/x-python",
   "name": "python",
   "nbconvert_exporter": "python",
   "pygments_lexer": "ipython3",
   "version": "3.9.0"
  }
 },
 "nbformat": 4,
 "nbformat_minor": 1
}
